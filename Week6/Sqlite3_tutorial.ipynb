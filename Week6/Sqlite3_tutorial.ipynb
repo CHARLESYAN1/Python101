{
 "cells": [
  {
   "cell_type": "markdown",
   "metadata": {},
   "source": [
    "## Sqlite3 Tutorial\n",
    "### Author: Jiawen Yan\n",
    "### Date: 2018-04-23\n",
    "### Version: 1.0"
   ]
  },
  {
   "cell_type": "code",
   "execution_count": 2,
   "metadata": {},
   "outputs": [],
   "source": [
    "# by default, python3 has installed sqlite3, so you could simply import it \n",
    "import sqlite3"
   ]
  },
  {
   "cell_type": "code",
   "execution_count": null,
   "metadata": {},
   "outputs": [],
   "source": [
    "# however, to actually browse database, you need to execute following commands in terminal:\n",
    "'''\n",
    "sudo add-apt-repository -y ppa:linuxgndu/sqlitebrowser\n",
    "sudo apt-get update\n",
    "sudo apt-get install sqlitebrowser\n",
    "'''"
   ]
  },
  {
   "cell_type": "markdown",
   "metadata": {},
   "source": [
    "### Part 1, Basics"
   ]
  },
  {
   "cell_type": "code",
   "execution_count": 23,
   "metadata": {},
   "outputs": [],
   "source": [
    "# to connect to database, we need to establish a connection and cursor\n",
    "conn = sqlite3.connect(\"sqlite3_tutorial_JD_data.db\")\n",
    "c = conn.cursor()\n",
    "#### your codes ####\n",
    "c.close()\n",
    "conn.close()"
   ]
  },
  {
   "cell_type": "markdown",
   "metadata": {},
   "source": [
    "#### 1. Create a table in a database"
   ]
  },
  {
   "cell_type": "code",
   "execution_count": 24,
   "metadata": {},
   "outputs": [],
   "source": [
    "'''\n",
    "Datatypes: \n",
    "    NULL. The value is a NULL value.\n",
    "    INTEGER. The value is a signed integer, stored in 1, 2, 3, 4, 6, or 8 bytes depending on the magnitude of the value.\n",
    "    REAL. The value is a floating point value, stored as an 8-byte IEEE floating point number.\n",
    "    TEXT. The value is a text string, stored using the database encoding (UTF-8, UTF-16BE or UTF-16LE).\n",
    "    BLOB. The value is a blob of data, stored exactly as it was input.\n",
    "'''\n",
    "def create_table(conn, c):\n",
    "    c.execute(\"\"\"CREATE TABLE IF NOT EXISTS Products(\n",
    "                id INTEGER PRIMARY KEY AUTOINCREMENT,\n",
    "                _id INTEGER,\n",
    "                url TEXT,\n",
    "                sku_id TEXT,\n",
    "                domain TEXT,\n",
    "                name TEXT,\n",
    "                item_name TEXT,\n",
    "                parameter1 TEXT,\n",
    "                parameter2 TEXT, \n",
    "                price REAL ,\n",
    "                brand TEXT ,\n",
    "                other TEXT) ;\"\"\")\n",
    "    conn.commit()\n",
    "conn = sqlite3.connect(\"sqlite3_tutorial_JD_data.db\")\n",
    "c = conn.cursor()\n",
    "create_table(conn, c)\n",
    "c.close()\n",
    "conn.close()"
   ]
  },
  {
   "cell_type": "markdown",
   "metadata": {},
   "source": [
    "#### 2. Insert Statement"
   ]
  },
  {
   "cell_type": "code",
   "execution_count": 25,
   "metadata": {},
   "outputs": [],
   "source": [
    "\n",
    "def insert_data(conn, c, num):\n",
    "    import pandas as pd\n",
    "    fin = pd.read_csv(\"sample_jd_products.csv\")\n",
    "    for i in range(1, num+1):\n",
    "        c.execute('''INSERT INTO Products \n",
    "        (_id, url, sku_id, domain, name, item_name, parameter1, parameter2, price, brand, other) \n",
    "        VALUES (\"{}\", \"{}\", \"{}\", \"{}\", \"{}\", \"{}\", \"{}\", \"{}\", \"{}\", \"{}\", \"{}\") ; '''.format( *[ fin.loc[i][j] for j in range(1,12) ]) )\n",
    "        conn.commit()\n",
    "    \n",
    "\n",
    "conn = sqlite3.connect(\"sqlite3_tutorial_JD_data.db\")\n",
    "c = conn.cursor()\n",
    "insert_data(conn, c, 2000)\n",
    "c.close()\n",
    "conn.close()\n"
   ]
  },
  {
   "cell_type": "markdown",
   "metadata": {},
   "source": [
    "#### 3. Select Statement"
   ]
  },
  {
   "cell_type": "code",
   "execution_count": 5,
   "metadata": {},
   "outputs": [
    {
     "name": "stdout",
     "output_type": "stream",
     "text": [
      "('1718026732', \"['凯伊秀眼霜   能量紧致明亮眼霜15g  女去黑眼圈眼袋细纹淡化鱼尾纹']\", '109.0')\n"
     ]
    }
   ],
   "source": [
    "def select_data(conn, c, Id):\n",
    "    ret = c.execute(\"SELECT sku_id, name, price FROM Products WHERE id = {}\".format(Id))\n",
    "    ret = ret.fetchall()\n",
    "    if ret:\n",
    "        print(ret[0])\n",
    "conn = sqlite3.connect(\"sqlite3_tutorial_JD_data.db\")\n",
    "c = conn.cursor()\n",
    "select_data(conn, c, Id = 128)\n",
    "c.close()\n",
    "conn.close()\n"
   ]
  },
  {
   "cell_type": "markdown",
   "metadata": {},
   "source": [
    "#### 4. Update statement"
   ]
  },
  {
   "cell_type": "code",
   "execution_count": 8,
   "metadata": {},
   "outputs": [
    {
     "name": "stdout",
     "output_type": "stream",
     "text": [
      "('1718026732', \"['凯伊秀眼霜   能量紧致明亮眼霜15g  女去黑眼圈眼袋细纹淡化鱼尾纹']\", '109.0')\n",
      "('1718026732', \"['凯伊秀眼霜   能量紧致明亮眼霜15g  女去黑眼圈眼袋细纹淡化鱼尾纹']\", '12.0')\n"
     ]
    }
   ],
   "source": [
    "def update_data(conn, c, Id, new_price):\n",
    "    ret = c.execute(\"UPDATE Products SET price = {} WHERE id = {}\".format(new_price, Id))\n",
    "\n",
    "conn = sqlite3.connect(\"sqlite3_tutorial_JD_data.db\")\n",
    "c = conn.cursor()\n",
    "select_data(conn, c, Id = 128)\n",
    "update_data(conn, c, Id = 128, new_price=12.0)\n",
    "select_data(conn, c, Id = 128)\n",
    "c.close()\n",
    "conn.close()\n"
   ]
  },
  {
   "cell_type": "markdown",
   "metadata": {},
   "source": [
    "#### 5. Delete Statement "
   ]
  },
  {
   "cell_type": "code",
   "execution_count": 26,
   "metadata": {},
   "outputs": [],
   "source": [
    "def delete_data(conn, c, Id):\n",
    "    c.execute(\"DELETE FROM Products WHERE id = {} ;\".format(Id) )\n",
    "    \n",
    "conn = sqlite3.connect(\"sqlite3_tutorial_JD_data.db\")\n",
    "c = conn.cursor()\n",
    "\n",
    "select_data(conn, c, Id = 999)\n",
    "delete_data(conn, c, Id = 999)\n",
    "conn.commit()\n",
    "select_data(conn, c, Id = 999)\n",
    "\n",
    "c.close()\n",
    "conn.close()\n"
   ]
  },
  {
   "cell_type": "markdown",
   "metadata": {},
   "source": [
    "#### *6. Time efficience"
   ]
  },
  {
   "cell_type": "code",
   "execution_count": 4,
   "metadata": {},
   "outputs": [
    {
     "name": "stdout",
     "output_type": "stream",
     "text": [
      "0:00:10.874353\n"
     ]
    }
   ],
   "source": [
    "# how to quickly select data from database?\n",
    "from datetime import datetime\n",
    "import random\n",
    "\n",
    "def many_selects(conn, c, times):\n",
    "    sku_ids = [\"1106257762\",\"1055818589\",\"1434612168\",\"1339190822\",\"1050895058\",\n",
    "               \"1077734754\",\"1391081652\",\"1101196302\",\"1435256636\",\"1222981002\"]\n",
    "    time_start = datetime.now()\n",
    "    for i in range(times):\n",
    "        Id = random.choice(sku_ids)\n",
    "        ret = c.execute(\"SELECT sku_id, name, price FROM Products WHERE sku_id = {}\".format(Id))\n",
    "    time_end = datetime.now()\n",
    "    print(time_end-time_start)\n",
    "\n",
    "conn = sqlite3.connect(\"sqlite3_tutorial_JD_data.db\")\n",
    "c = conn.cursor()\n",
    "many_selects(conn, c, 200000)\n",
    "c.close()\n",
    "conn.close()\n"
   ]
  },
  {
   "cell_type": "code",
   "execution_count": 14,
   "metadata": {},
   "outputs": [],
   "source": [
    "# trick: create index\n",
    "def remove_index(conn, c):\n",
    "    c.execute(\"DROP INDEX sku_id_index ;\")\n",
    "    conn.commit()\n",
    "def create_index(conn, c):\n",
    "    c.execute(\"CREATE UNIQUE INDEX IF NOT EXISTS sku_id_index ON Products (sku_id);\")\n",
    "    conn.commit()\n",
    "conn = sqlite3.connect(\"sqlite3_tutorial_JD_data.db\")\n",
    "c = conn.cursor()\n",
    "create_index(conn, c)\n",
    "#remove_index(conn, c)\n",
    "c.close()\n",
    "conn.close()\n"
   ]
  },
  {
   "cell_type": "code",
   "execution_count": 15,
   "metadata": {},
   "outputs": [
    {
     "name": "stdout",
     "output_type": "stream",
     "text": [
      "0:00:05.495829\n"
     ]
    }
   ],
   "source": [
    "conn = sqlite3.connect(\"sqlite3_tutorial_JD_data.db\")\n",
    "c = conn.cursor()\n",
    "many_selects(conn, c, 200000)\n",
    "c.close()\n",
    "conn.close()"
   ]
  },
  {
   "cell_type": "markdown",
   "metadata": {},
   "source": [
    "### Part2, Intermediate "
   ]
  },
  {
   "cell_type": "markdown",
   "metadata": {},
   "source": [
    "#### 1. Select Order and Limit"
   ]
  },
  {
   "cell_type": "code",
   "execution_count": null,
   "metadata": {},
   "outputs": [],
   "source": [
    "'''\n",
    "SQL SYNTAX:\n",
    "SELECT column-names\n",
    "  FROM table-name\n",
    " ORDER BY column-names\n",
    "LIMIT X;\n",
    "'''"
   ]
  },
  {
   "cell_type": "code",
   "execution_count": 33,
   "metadata": {},
   "outputs": [
    {
     "name": "stdout",
     "output_type": "stream",
     "text": [
      "('6100165', \"SK-II'小灯泡'曜白精华套装（肌因光蕴环采钻白精华露30ml+护肤精华露10ml）（面部精华液）\", 1040.0)\n",
      "('4380118', \"SK-II'小灯泡'曜白精华套装（肌因光蕴环采钻白精华露30ml+护肤精华露10ml）（面部精华液）\", 1040.0)\n",
      "('2223524', 'SK-II护肤面膜10p（日本面膜女 补水保湿）', 1060.0)\n",
      "('5981507', '玉兰油Olay新生塑颜臻粹化妆品套装(小脸精华+小脸霜+洁面+嫩肤水+面膜+走珠笔+黄金棒+手包)', 1090.0)\n",
      "('1452961433', '圣荷（ST.HERB） 泰国圣荷纳诺美胸霜丰胸产品美乳精油霜15ml/支 胸部护理霜贴 1月装-30天量', 1160.0)\n",
      "('5203591', '泰国圣荷（ST.HERB）纳米美胸增大一月超值套装 圣荷美胸霜丰胸产品 胸部护理按摩精油霜', 1160.0)\n",
      "('1717795340', \"['佰草童话  魔法精油套']\", 1176.0)\n",
      "('6100187', \"SK-II PITERA'神仙水'+'大眼眼霜' 紧致套装（护肤精华露75ml+微肌因修护眼霜15g）（面部精华液 补水保湿）\", 1180.0)\n",
      "('1366031', '后Whoo 津率享红华凝香平颜系列礼盒6件套315ml（又名：津率享红华凝香护肤品礼盒6件套 新老包装随机发货）', 1210.0)\n",
      "('2562502', '后Whoo 拱辰享气韵生礼盒7件套336ml（乳液+滋养霜+眼霜+唇膏）补水保湿 乳液 面霜 眼霜 唇膏 套装 拱辰享', 1220.0)\n"
     ]
    }
   ],
   "source": [
    "# select ... order by statement\n",
    "# select ... limit 5 \n",
    "conn = sqlite3.connect(\"sqlite3_tutorial_JD_data.db\")\n",
    "c = conn.cursor()\n",
    "select_data_order(conn, c)\n",
    "ret = c.execute(\"SELECT sku_id, name, price FROM Products WHERE price > 1000.0 ORDER BY price ASC LIMIT 10; \")\n",
    "ret = ret.fetchall()\n",
    "if ret:\n",
    "    for r in ret:\n",
    "        print(r)\n",
    "c.close()\n",
    "conn.close()"
   ]
  },
  {
   "cell_type": "markdown",
   "metadata": {},
   "source": [
    "#### 2. Select Offset top X rows"
   ]
  },
  {
   "cell_type": "code",
   "execution_count": 35,
   "metadata": {},
   "outputs": [
    {
     "name": "stdout",
     "output_type": "stream",
     "text": [
      "('1032200369', '圣荷（ST.HERB） 泰国圣荷美胸霜丰胸霜丰乳精油产品美乳霜贴露膏 胸部增大1月加强装', 1299.0)\n",
      "('234261', '希思黎（Sisley）全能乳液125ml（乳液 补水保湿滋养 护肤品）(新老包装随机发放）', 1299.0)\n",
      "('5878510', \"SK-II限量版'神仙水'改变瓶晶透修护礼盒（神仙水230ml+洁面霜20g+唯白面膜2p+环采亮霜0.8g+环采霜2gx2）\", 1370.0)\n",
      "('6100177', \"SK-II PITERA'神仙水'男士醒肤净透清爽护肤套装（男士护肤精华露230ml）（面部精华露 男控油保湿补水）\", 1370.0)\n",
      "('6088552', \"SK-II PITERA'神仙水'晶透修护肌肤套装（护肤精华露230ml）（面部精华液 补水保湿 紧致修复 ）\", 1370.0)\n",
      "('5878494', \"SK-II限量版'神仙水'宣言瓶晶透修护礼盒（神仙水230ml+洁面霜20g+唯白面膜2p+环采亮霜0.8g+环采霜2gx2）\", 1370.0)\n",
      "('2574022', \"SK-II男士焕活护肤精华露230ml（PITERA'神仙水' 面部精华露 男士控油保湿补水 紧致修复 ）\", 1370.0)\n",
      "('16676298276', '德沃思（DEWOS） 骨盆修复仪髋骨调理仪盆骨矫正仪器修复仪器产后理疗卵巢保养 髋骨调理仪', 1380.0)\n",
      "('6100191', 'SK-II微肌因赋活修护套装（微肌因修护精华霜50g+微肌因修护眼霜15g）（乳液面霜补水保湿 淡化细纹去眼圈）', 1450.0)\n",
      "('1526049919', '颜如玉 胶原低聚肽蓝莓口服液胶原蛋白口服蓝莓果饮国皂 颜如玉12盒装', 1500.0)\n"
     ]
    }
   ],
   "source": [
    "# Offset top X rows\n",
    "    \n",
    "conn = sqlite3.connect(\"sqlite3_tutorial_JD_data.db\")\n",
    "c = conn.cursor()\n",
    "ret = c.execute(\"SELECT sku_id, name, price FROM Products WHERE price > 1000.0 ORDER BY price ASC LIMIT 10 OFFSET 10; \")\n",
    "ret = ret.fetchall()\n",
    "if ret:\n",
    "    for r in ret:\n",
    "        print(r)\n",
    "c.close()\n",
    "conn.close()"
   ]
  },
  {
   "cell_type": "markdown",
   "metadata": {},
   "source": [
    "#### 3.Select Distinct"
   ]
  },
  {
   "cell_type": "code",
   "execution_count": null,
   "metadata": {},
   "outputs": [],
   "source": [
    "'''\n",
    "SQL SYNTAX:\n",
    "SELECT DISTINCT column-name\n",
    "  FROM table-name\n",
    "'''"
   ]
  },
  {
   "cell_type": "code",
   "execution_count": 39,
   "metadata": {},
   "outputs": [
    {
     "name": "stdout",
     "output_type": "stream",
     "text": [
      "(\"SK-II'小灯泡'曜白精华套装（肌因光蕴环采钻白精华露30ml+护肤精华露10ml）（面部精华液）\", 1040.0)\n",
      "('SK-II护肤面膜10p（日本面膜女 补水保湿）', 1060.0)\n",
      "('玉兰油Olay新生塑颜臻粹化妆品套装(小脸精华+小脸霜+洁面+嫩肤水+面膜+走珠笔+黄金棒+手包)', 1090.0)\n",
      "('圣荷（ST.HERB） 泰国圣荷纳诺美胸霜丰胸产品美乳精油霜15ml/支 胸部护理霜贴 1月装-30天量', 1160.0)\n",
      "('泰国圣荷（ST.HERB）纳米美胸增大一月超值套装 圣荷美胸霜丰胸产品 胸部护理按摩精油霜', 1160.0)\n",
      "(\"['佰草童话  魔法精油套']\", 1176.0)\n",
      "(\"SK-II PITERA'神仙水'+'大眼眼霜' 紧致套装（护肤精华露75ml+微肌因修护眼霜15g）（面部精华液 补水保湿）\", 1180.0)\n",
      "('后Whoo 津率享红华凝香平颜系列礼盒6件套315ml（又名：津率享红华凝香护肤品礼盒6件套 新老包装随机发货）', 1210.0)\n",
      "('后Whoo 拱辰享气韵生礼盒7件套336ml（乳液+滋养霜+眼霜+唇膏）补水保湿 乳液 面霜 眼霜 唇膏 套装 拱辰享', 1220.0)\n",
      "('圣荷（ST.HERB） 泰国圣荷美胸霜丰胸霜丰乳精油产品美乳霜贴露膏 胸部增大1月加强装', 1299.0)\n"
     ]
    }
   ],
   "source": [
    "# distinct select, to get unique value(s)\n",
    "conn = sqlite3.connect(\"sqlite3_tutorial_JD_data.db\")\n",
    "c = conn.cursor()\n",
    "\n",
    "ret = c.execute(\"SELECT DISTINCT name, price FROM Products WHERE price > 1000.0 ORDER BY price ASC LIMIT 10; \")\n",
    "ret = ret.fetchall()\n",
    "if ret:\n",
    "    for r in ret:\n",
    "        print(r)\n",
    "\n",
    "c.close()\n",
    "conn.close()"
   ]
  },
  {
   "cell_type": "markdown",
   "metadata": {},
   "source": [
    "#### 4. Select MIN/MAX "
   ]
  },
  {
   "cell_type": "code",
   "execution_count": null,
   "metadata": {},
   "outputs": [],
   "source": [
    "'''\n",
    "SQL SYNTAX:\n",
    "SELECT MIN/MAX(column-name)\n",
    "  FROM table-name\n",
    "'''"
   ]
  },
  {
   "cell_type": "code",
   "execution_count": null,
   "metadata": {},
   "outputs": [],
   "source": [
    "# select MIN/MAX\n",
    "\n",
    "conn = sqlite3.connect(\"sqlite3_tutorial_JD_data.db\")\n",
    "c = conn.cursor()\n",
    "\n",
    "ret = c.execute(\"SELECT MAX (price) FROM Products WHERE price < 9000\")\n",
    "ret = ret.fetchall()\n",
    "if ret:\n",
    "    for r in ret:\n",
    "        print(r)\n",
    "        \n",
    "c.close()\n",
    "conn.close()"
   ]
  },
  {
   "cell_type": "markdown",
   "metadata": {},
   "source": [
    "#### 5. Select COUNT/SUM/AVG"
   ]
  },
  {
   "cell_type": "code",
   "execution_count": null,
   "metadata": {},
   "outputs": [],
   "source": [
    "'''\n",
    "SQL SYNTAX:\n",
    "SELECT COUNT/SUM/AVG(column-name)\n",
    "  FROM table-name\n",
    "'''"
   ]
  },
  {
   "cell_type": "code",
   "execution_count": 46,
   "metadata": {},
   "outputs": [
    {
     "name": "stdout",
     "output_type": "stream",
     "text": [
      "(2000,)\n"
     ]
    }
   ],
   "source": [
    "# Count \n",
    "conn = sqlite3.connect(\"sqlite3_tutorial_JD_data.db\")\n",
    "c = conn.cursor()\n",
    "ret = c.execute(\"SELECT COUNT (sku_id) FROM Products\")\n",
    "ret = ret.fetchall()\n",
    "if ret:\n",
    "    for r in ret:\n",
    "        print(r)\n",
    "c.close()\n",
    "conn.close()"
   ]
  },
  {
   "cell_type": "code",
   "execution_count": 47,
   "metadata": {},
   "outputs": [
    {
     "name": "stdout",
     "output_type": "stream",
     "text": [
      "(312363.20000000135,)\n"
     ]
    }
   ],
   "source": [
    "# Count \n",
    "conn = sqlite3.connect(\"sqlite3_tutorial_JD_data.db\")\n",
    "c = conn.cursor()\n",
    "ret = c.execute(\"SELECT SUM (price) FROM Products\")\n",
    "ret = ret.fetchall()\n",
    "if ret:\n",
    "    for r in ret:\n",
    "        print(r)\n",
    "c.close()\n",
    "conn.close()"
   ]
  },
  {
   "cell_type": "code",
   "execution_count": 48,
   "metadata": {},
   "outputs": [
    {
     "name": "stdout",
     "output_type": "stream",
     "text": [
      "(156.18160000000069,)\n"
     ]
    }
   ],
   "source": [
    "# AVG \n",
    "conn = sqlite3.connect(\"sqlite3_tutorial_JD_data.db\")\n",
    "c = conn.cursor()\n",
    "ret = c.execute(\"SELECT AVG (price) FROM Products\")\n",
    "ret = ret.fetchall()\n",
    "if ret:\n",
    "    for r in ret:\n",
    "        print(r)\n",
    "c.close()\n",
    "conn.close()"
   ]
  },
  {
   "cell_type": "markdown",
   "metadata": {},
   "source": [
    "### Part3, Conditions and Logics"
   ]
  },
  {
   "cell_type": "markdown",
   "metadata": {},
   "source": [
    "#### 1. And/Or/Not logics"
   ]
  },
  {
   "cell_type": "code",
   "execution_count": 8,
   "metadata": {},
   "outputs": [
    {
     "name": "stdout",
     "output_type": "stream",
     "text": [
      "('6100179', \"SK-II'小银瓶'耀白无瑕套装（肌因光蕴精华露30ml+护肤精华露10ml）（面部精华液）\", 960.0)\n",
      "('1304764', '后Whoo 拱辰享气韵生润颜系列礼盒6件套350ml（保湿 滋润 护肤礼盒 拱辰享基础套装）', 958.0)\n"
     ]
    }
   ],
   "source": [
    "# AND\n",
    "conn = sqlite3.connect(\"sqlite3_tutorial_JD_data.db\")\n",
    "c = conn.cursor()\n",
    "\n",
    "ret = c.execute(\"SELECT sku_id, name, price FROM Products WHERE price < 1000 AND price > 900\")\n",
    "ret = ret.fetchall()\n",
    "if ret:\n",
    "    for r in ret:\n",
    "        print(r)\n",
    "        \n",
    "c.close()\n",
    "conn.close()"
   ]
  },
  {
   "cell_type": "code",
   "execution_count": 3,
   "metadata": {},
   "outputs": [
    {
     "name": "stdout",
     "output_type": "stream",
     "text": [
      "('2562502', '后Whoo 拱辰享气韵生礼盒7件套336ml（乳液+滋养霜+眼霜+唇膏）补水保湿 乳液 面霜 眼霜 唇膏 套装 拱辰享', 1220.0)\n"
     ]
    }
   ],
   "source": [
    "# NOT\n",
    "conn = sqlite3.connect(\"sqlite3_tutorial_JD_data.db\")\n",
    "c = conn.cursor()\n",
    "\n",
    "ret = c.execute(\"SELECT sku_id, name, price FROM Products WHERE NOT price <1000 \")\n",
    "ret = ret.fetchall()\n",
    "if ret:\n",
    "    for r in ret:\n",
    "        print(r)\n",
    "        break\n",
    "        \n",
    "c.close()\n",
    "conn.close()"
   ]
  },
  {
   "cell_type": "markdown",
   "metadata": {},
   "source": [
    "#### 2. Between\n"
   ]
  },
  {
   "cell_type": "code",
   "execution_count": 11,
   "metadata": {},
   "outputs": [
    {
     "name": "stdout",
     "output_type": "stream",
     "text": [
      "('6100179', \"SK-II'小银瓶'耀白无瑕套装（肌因光蕴精华露30ml+护肤精华露10ml）（面部精华液）\", 960.0)\n",
      "('1304764', '后Whoo 拱辰享气韵生润颜系列礼盒6件套350ml（保湿 滋润 护肤礼盒 拱辰享基础套装）', 958.0)\n"
     ]
    }
   ],
   "source": [
    "# NOT\n",
    "conn = sqlite3.connect(\"sqlite3_tutorial_JD_data.db\")\n",
    "c = conn.cursor()\n",
    "\n",
    "ret = c.execute(\"SELECT sku_id, name, price FROM Products WHERE price BETWEEN 900 AND 1000 \")\n",
    "ret = ret.fetchall()\n",
    "if ret:\n",
    "    for r in ret:\n",
    "        print(r)\n",
    "        \n",
    "c.close()\n",
    "conn.close()"
   ]
  },
  {
   "cell_type": "markdown",
   "metadata": {},
   "source": [
    "#### 3.time efficiency\n"
   ]
  },
  {
   "cell_type": "code",
   "execution_count": 15,
   "metadata": {},
   "outputs": [
    {
     "name": "stdout",
     "output_type": "stream",
     "text": [
      "0:00:06.378568\n",
      "0:00:06.283135\n"
     ]
    }
   ],
   "source": [
    "from datetime import datetime\n",
    "# Between ... and\n",
    "conn = sqlite3.connect(\"sqlite3_tutorial_JD_data.db\")\n",
    "c = conn.cursor()\n",
    "st = datetime.now()\n",
    "for _ in range(20000):\n",
    "    ret = c.execute(\"SELECT sku_id, name, price FROM Products WHERE price BETWEEN 900 AND 1000 \")\n",
    "    ret = ret.fetchall()\n",
    "et = datetime.now()\n",
    "print(et-st)\n",
    "c.close()\n",
    "conn.close()\n",
    "# AND \n",
    "conn = sqlite3.connect(\"sqlite3_tutorial_JD_data.db\")\n",
    "c = conn.cursor()\n",
    "st = datetime.now()\n",
    "for _ in range(20000):\n",
    "    ret = c.execute(\"SELECT sku_id, name, price FROM Products WHERE price >= 900 AND price <=1000 \")\n",
    "    ret = ret.fetchall()\n",
    "et = datetime.now()\n",
    "print(et-st)\n",
    "c.close()\n",
    "conn.close()"
   ]
  },
  {
   "cell_type": "markdown",
   "metadata": {},
   "source": [
    "#### 4.  In statement "
   ]
  },
  {
   "cell_type": "code",
   "execution_count": 24,
   "metadata": {},
   "outputs": [
    {
     "name": "stdout",
     "output_type": "stream",
     "text": [
      "[('1951395', '欧珀莱（AUPRES）均衡保湿系列 柔润水（滋润型） 150ml（清透补水 持久保湿）', 100.0), ('1463206373', \"['雪雅璐御发诗洗发水洗发露水光滋养无硅轻盈焗油修护 水光滋养洗发水+焗油精华护发乳']\", 100.0), ('1463206374', \"['雪雅璐御发诗洗发水洗发露水光滋养无硅轻盈焗油修护 无硅轻盈洗发水+焗油精华护发乳']\", 100.0)]\n"
     ]
    }
   ],
   "source": [
    "conn = sqlite3.connect(\"sqlite3_tutorial_JD_data.db\")\n",
    "c = conn.cursor()\n",
    "ret = c.execute(\"SELECT sku_id, name, price FROM Products WHERE price IN ('100');\")\n",
    "ret = ret.fetchall()\n",
    "print(ret)\n",
    "c.close()\n",
    "conn.close()"
   ]
  },
  {
   "cell_type": "code",
   "execution_count": 3,
   "metadata": {},
   "outputs": [
    {
     "name": "stdout",
     "output_type": "stream",
     "text": [
      "('3342868', 'SK-II嫩肤清莹露160ml（爽肤水 女 保湿补水 柔肤水  深层清洁）', 560.0)\n"
     ]
    }
   ],
   "source": [
    "conn = sqlite3.connect(\"sqlite3_tutorial_JD_data.db\")\n",
    "c = conn.cursor()\n",
    "ret = c.execute(\"SELECT sku_id, name, price FROM Products WHERE name LIKE '%SK-II%';\")\n",
    "ret = ret.fetchall()\n",
    "for r in ret: \n",
    "    print(r)\n",
    "    break\n",
    "c.close()\n",
    "conn.close()"
   ]
  },
  {
   "cell_type": "code",
   "execution_count": null,
   "metadata": {},
   "outputs": [],
   "source": []
  },
  {
   "cell_type": "code",
   "execution_count": null,
   "metadata": {},
   "outputs": [],
   "source": []
  },
  {
   "cell_type": "code",
   "execution_count": null,
   "metadata": {},
   "outputs": [],
   "source": []
  },
  {
   "cell_type": "code",
   "execution_count": null,
   "metadata": {},
   "outputs": [],
   "source": []
  }
 ],
 "metadata": {
  "kernelspec": {
   "display_name": "Python 3",
   "language": "python",
   "name": "python3"
  },
  "language_info": {
   "codemirror_mode": {
    "name": "ipython",
    "version": 3
   },
   "file_extension": ".py",
   "mimetype": "text/x-python",
   "name": "python",
   "nbconvert_exporter": "python",
   "pygments_lexer": "ipython3",
   "version": "3.5.2"
  }
 },
 "nbformat": 4,
 "nbformat_minor": 2
}
