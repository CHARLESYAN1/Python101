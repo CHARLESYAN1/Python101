{
 "cells": [
  {
   "cell_type": "code",
   "execution_count": 26,
   "metadata": {
    "scrolled": true
   },
   "outputs": [
    {
     "ename": "AttributeError",
     "evalue": "type object 'HTMLAwareEntitySubstitution' has no attribute 'preserve_whitespace_tags'",
     "output_type": "error",
     "traceback": [
      "\u001b[0;31m---------------------------------------------------------------------------\u001b[0m",
      "\u001b[0;31mAttributeError\u001b[0m                            Traceback (most recent call last)",
      "\u001b[0;32m<ipython-input-26-2da1b681d0b5>\u001b[0m in \u001b[0;36m<module>\u001b[0;34m()\u001b[0m\n\u001b[1;32m      1\u001b[0m \u001b[0;32mimport\u001b[0m \u001b[0mrequests\u001b[0m\u001b[0;34m\u001b[0m\u001b[0m\n\u001b[1;32m      2\u001b[0m \u001b[0;31m# pip install requests, html5lib, bs4\u001b[0m\u001b[0;34m\u001b[0m\u001b[0;34m\u001b[0m\u001b[0m\n\u001b[0;32m----> 3\u001b[0;31m \u001b[0;32mimport\u001b[0m \u001b[0mbs4\u001b[0m\u001b[0;34m\u001b[0m\u001b[0m\n\u001b[0m",
      "\u001b[0;32m~/.local/lib/python3.5/site-packages/bs4/__init__.py\u001b[0m in \u001b[0;36m<module>\u001b[0;34m()\u001b[0m\n\u001b[1;32m     33\u001b[0m \u001b[0;32mimport\u001b[0m \u001b[0mwarnings\u001b[0m\u001b[0;34m\u001b[0m\u001b[0m\n\u001b[1;32m     34\u001b[0m \u001b[0;34m\u001b[0m\u001b[0m\n\u001b[0;32m---> 35\u001b[0;31m \u001b[0;32mfrom\u001b[0m \u001b[0;34m.\u001b[0m\u001b[0mbuilder\u001b[0m \u001b[0;32mimport\u001b[0m \u001b[0mbuilder_registry\u001b[0m\u001b[0;34m,\u001b[0m \u001b[0mParserRejectedMarkup\u001b[0m\u001b[0;34m\u001b[0m\u001b[0m\n\u001b[0m\u001b[1;32m     36\u001b[0m \u001b[0;32mfrom\u001b[0m \u001b[0;34m.\u001b[0m\u001b[0mdammit\u001b[0m \u001b[0;32mimport\u001b[0m \u001b[0mUnicodeDammit\u001b[0m\u001b[0;34m\u001b[0m\u001b[0m\n\u001b[1;32m     37\u001b[0m from .element import (\n",
      "\u001b[0;32m~/.local/lib/python3.5/site-packages/bs4/builder/__init__.py\u001b[0m in \u001b[0;36m<module>\u001b[0;34m()\u001b[0m\n\u001b[1;32m    226\u001b[0m \u001b[0;34m\u001b[0m\u001b[0m\n\u001b[1;32m    227\u001b[0m \u001b[0;34m\u001b[0m\u001b[0m\n\u001b[0;32m--> 228\u001b[0;31m \u001b[0;32mclass\u001b[0m \u001b[0mHTMLTreeBuilder\u001b[0m\u001b[0;34m(\u001b[0m\u001b[0mTreeBuilder\u001b[0m\u001b[0;34m)\u001b[0m\u001b[0;34m:\u001b[0m\u001b[0;34m\u001b[0m\u001b[0m\n\u001b[0m\u001b[1;32m    229\u001b[0m     \"\"\"This TreeBuilder knows facts about HTML.\n\u001b[1;32m    230\u001b[0m \u001b[0;34m\u001b[0m\u001b[0m\n",
      "\u001b[0;32m~/.local/lib/python3.5/site-packages/bs4/builder/__init__.py\u001b[0m in \u001b[0;36mHTMLTreeBuilder\u001b[0;34m()\u001b[0m\n\u001b[1;32m    232\u001b[0m     \"\"\"\n\u001b[1;32m    233\u001b[0m \u001b[0;34m\u001b[0m\u001b[0m\n\u001b[0;32m--> 234\u001b[0;31m     \u001b[0mpreserve_whitespace_tags\u001b[0m \u001b[0;34m=\u001b[0m \u001b[0mHTMLAwareEntitySubstitution\u001b[0m\u001b[0;34m.\u001b[0m\u001b[0mpreserve_whitespace_tags\u001b[0m\u001b[0;34m\u001b[0m\u001b[0m\n\u001b[0m\u001b[1;32m    235\u001b[0m     empty_element_tags = set([\n\u001b[1;32m    236\u001b[0m         \u001b[0;31m# These are from HTML5.\u001b[0m\u001b[0;34m\u001b[0m\u001b[0;34m\u001b[0m\u001b[0m\n",
      "\u001b[0;31mAttributeError\u001b[0m: type object 'HTMLAwareEntitySubstitution' has no attribute 'preserve_whitespace_tags'"
     ]
    }
   ],
   "source": [
    "# pip install requests, html5lib, bs4\n",
    "import requests\n",
    "import bs4"
   ]
  },
  {
   "cell_type": "code",
   "execution_count": 3,
   "metadata": {},
   "outputs": [],
   "source": [
    "r = requests.get(\"http://sns.sseinfo.com/ajax/userfeeds.do?typeCode=company&type=11&pageSize=100&uid=666&page=1\")"
   ]
  },
  {
   "cell_type": "code",
   "execution_count": 4,
   "metadata": {},
   "outputs": [
    {
     "data": {
      "text/plain": [
       "200"
      ]
     },
     "execution_count": 4,
     "metadata": {},
     "output_type": "execute_result"
    }
   ],
   "source": [
    "r.status_code"
   ]
  },
  {
   "cell_type": "code",
   "execution_count": 5,
   "metadata": {},
   "outputs": [
    {
     "data": {
      "text/plain": [
       "True"
      ]
     },
     "execution_count": 5,
     "metadata": {},
     "output_type": "execute_result"
    }
   ],
   "source": [
    "r.ok"
   ]
  },
  {
   "cell_type": "code",
   "execution_count": 6,
   "metadata": {},
   "outputs": [
    {
     "data": {
      "text/plain": [
       "'UTF-8'"
      ]
     },
     "execution_count": 6,
     "metadata": {},
     "output_type": "execute_result"
    }
   ],
   "source": [
    "r.encoding"
   ]
  },
  {
   "cell_type": "code",
   "execution_count": 7,
   "metadata": {},
   "outputs": [],
   "source": [
    "headers = {\"User-Agent\":\"Mozilla/5.0 (X11; Ubuntu; Linux x86_64; rv:60.0) Gecko/20100101 Firefox/60.0\"}"
   ]
  },
  {
   "cell_type": "code",
   "execution_count": 13,
   "metadata": {},
   "outputs": [],
   "source": [
    "r = requests.get(\"https://www.amazon.com\")"
   ]
  },
  {
   "cell_type": "code",
   "execution_count": 14,
   "metadata": {},
   "outputs": [
    {
     "data": {
      "text/plain": [
       "'<!--\\n        To discuss automated access to Amazon data please contact api-services-support@amazon.com.\\n        For information about migrating to our APIs refer to our Marketplace APIs at https://developer.amazonservices.com/ref=rm_5_sv, or our Product Advertising API at https://affiliate-program.amazon.com/gp/advertising/api/detail/main.html/ref=rm_5_ac for advertising use cases.\\n-->\\n<!doctype html>\\n<html>\\n<head>\\n  <meta charset=\"utf-8\">\\n  <meta http-equiv=\"x-ua-compatible\" content=\"ie=edge\">\\n  <meta name=\"viewport\" content=\"width=device-width, initial-scale=1, shrink-to-fit=no\">\\n  <title>Sorry! Something went wrong!</title>\\n  <style>\\n  html, body {\\n    padding: 0;\\n    margin: 0\\n  }\\n\\n  img {\\n    border: 0\\n  }\\n\\n  #a {\\n    background: #232f3e;\\n    padding: 11px 11px 11px 192px\\n  }\\n\\n  #b {\\n    position: absolute;\\n    left: 22px;\\n    top: 12px\\n  }\\n\\n  #c {\\n    position: relative;\\n    max-width: 800px;\\n    padding: 0 40px 0 0\\n  }\\n\\n  #e, #f {\\n    height: 35px;\\n    border: 0;\\n    font-size: 1em\\n  }\\n\\n  #e {\\n    width: 100%;\\n    margin: 0;\\n    padding: 0 10px;\\n    border-radius: 4px 0 0 4px\\n  }\\n\\n  #f {\\n    cursor: pointer;\\n    background: #febd69;\\n    font-weight: bold;\\n    border-radius: 0 4px 4px 0;\\n    -webkit-appearance: none;\\n    position: absolute;\\n    top: 0;\\n    right: 0;\\n    padding: 0 12px\\n  }\\n\\n  @media (max-width: 500px) {\\n    #a {\\n      padding: 55px 10px 10px\\n    }\\n\\n    #b {\\n      left: 6px\\n    }\\n  }\\n\\n  #g {\\n    text-align: center;\\n    margin: 30px 0\\n  }\\n\\n  #g img {\\n    max-width: 90%\\n  }\\n\\n  #d {\\n    display: none\\n  }\\n\\n  #d[src] {\\n    display: inline\\n  }\\n  </style>\\n</head>\\n<body>\\n    <a href=\"/ref=cs_503_logo\"><img id=\"b\" src=\"https://images-na.ssl-images-amazon.com/images/G/01/error/logo._TTD_.png\" alt=\"Amazon.com\"></a>\\n    <form id=\"a\" accept-charset=\"utf-8\" action=\"/s\" method=\"GET\" role=\"search\">\\n        <div id=\"c\">\\n            <input id=\"e\" name=\"field-keywords\" placeholder=\"Search\">\\n            <input name=\"ref\" type=\"hidden\" value=\"cs_503_search\">\\n            <input id=\"f\" type=\"submit\" value=\"Go\">\\n        </div>\\n    </form>\\n<div id=\"g\">\\n  <div><a href=\"/ref=cs_503_link\"><img src=\"https://images-na.ssl-images-amazon.com/images/G/01/error/500_503.png\"\\n                                        alt=\"Sorry! Something went wrong on our end. Please go back and try again or go to Amazon\\'s home page.\"></a>\\n  </div>\\n  <a href=\"/dogsofamazon/ref=cs_503_d\" target=\"_blank\" rel=\"noopener noreferrer\"><img id=\"d\" alt=\"Dogs of Amazon\"></a>\\n  <script>document.getElementById(\"d\").src = \"https://images-na.ssl-images-amazon.com/images/G/01/error/\" + (Math.floor(Math.random() * 43) + 1) + \"._TTD_.jpg\";</script>\\n</div>\\n</body>\\n</html>\\n'"
      ]
     },
     "execution_count": 14,
     "metadata": {},
     "output_type": "execute_result"
    }
   ],
   "source": [
    "r.text"
   ]
  },
  {
   "cell_type": "code",
   "execution_count": 25,
   "metadata": {},
   "outputs": [
    {
     "ename": "AttributeError",
     "evalue": "type object 'HTMLAwareEntitySubstitution' has no attribute 'preserve_whitespace_tags'",
     "output_type": "error",
     "traceback": [
      "\u001b[0;31m---------------------------------------------------------------------------\u001b[0m",
      "\u001b[0;31mAttributeError\u001b[0m                            Traceback (most recent call last)",
      "\u001b[0;32m<ipython-input-25-50b2309bcaa6>\u001b[0m in \u001b[0;36m<module>\u001b[0;34m()\u001b[0m\n\u001b[0;32m----> 1\u001b[0;31m \u001b[0;32mimport\u001b[0m \u001b[0mbs4\u001b[0m\u001b[0;34m\u001b[0m\u001b[0m\n\u001b[0m",
      "\u001b[0;32m~/.local/lib/python3.5/site-packages/bs4/__init__.py\u001b[0m in \u001b[0;36m<module>\u001b[0;34m()\u001b[0m\n\u001b[1;32m     33\u001b[0m \u001b[0;32mimport\u001b[0m \u001b[0mwarnings\u001b[0m\u001b[0;34m\u001b[0m\u001b[0m\n\u001b[1;32m     34\u001b[0m \u001b[0;34m\u001b[0m\u001b[0m\n\u001b[0;32m---> 35\u001b[0;31m \u001b[0;32mfrom\u001b[0m \u001b[0;34m.\u001b[0m\u001b[0mbuilder\u001b[0m \u001b[0;32mimport\u001b[0m \u001b[0mbuilder_registry\u001b[0m\u001b[0;34m,\u001b[0m \u001b[0mParserRejectedMarkup\u001b[0m\u001b[0;34m\u001b[0m\u001b[0m\n\u001b[0m\u001b[1;32m     36\u001b[0m \u001b[0;32mfrom\u001b[0m \u001b[0;34m.\u001b[0m\u001b[0mdammit\u001b[0m \u001b[0;32mimport\u001b[0m \u001b[0mUnicodeDammit\u001b[0m\u001b[0;34m\u001b[0m\u001b[0m\n\u001b[1;32m     37\u001b[0m from .element import (\n",
      "\u001b[0;32m~/.local/lib/python3.5/site-packages/bs4/builder/__init__.py\u001b[0m in \u001b[0;36m<module>\u001b[0;34m()\u001b[0m\n\u001b[1;32m    226\u001b[0m \u001b[0;34m\u001b[0m\u001b[0m\n\u001b[1;32m    227\u001b[0m \u001b[0;34m\u001b[0m\u001b[0m\n\u001b[0;32m--> 228\u001b[0;31m \u001b[0;32mclass\u001b[0m \u001b[0mHTMLTreeBuilder\u001b[0m\u001b[0;34m(\u001b[0m\u001b[0mTreeBuilder\u001b[0m\u001b[0;34m)\u001b[0m\u001b[0;34m:\u001b[0m\u001b[0;34m\u001b[0m\u001b[0m\n\u001b[0m\u001b[1;32m    229\u001b[0m     \"\"\"This TreeBuilder knows facts about HTML.\n\u001b[1;32m    230\u001b[0m \u001b[0;34m\u001b[0m\u001b[0m\n",
      "\u001b[0;32m~/.local/lib/python3.5/site-packages/bs4/builder/__init__.py\u001b[0m in \u001b[0;36mHTMLTreeBuilder\u001b[0;34m()\u001b[0m\n\u001b[1;32m    232\u001b[0m     \"\"\"\n\u001b[1;32m    233\u001b[0m \u001b[0;34m\u001b[0m\u001b[0m\n\u001b[0;32m--> 234\u001b[0;31m     \u001b[0mpreserve_whitespace_tags\u001b[0m \u001b[0;34m=\u001b[0m \u001b[0mHTMLAwareEntitySubstitution\u001b[0m\u001b[0;34m.\u001b[0m\u001b[0mpreserve_whitespace_tags\u001b[0m\u001b[0;34m\u001b[0m\u001b[0m\n\u001b[0m\u001b[1;32m    235\u001b[0m     empty_element_tags = set([\n\u001b[1;32m    236\u001b[0m         \u001b[0;31m# These are from HTML5.\u001b[0m\u001b[0;34m\u001b[0m\u001b[0;34m\u001b[0m\u001b[0m\n",
      "\u001b[0;31mAttributeError\u001b[0m: type object 'HTMLAwareEntitySubstitution' has no attribute 'preserve_whitespace_tags'"
     ]
    }
   ],
   "source": [
    "import bs4"
   ]
  },
  {
   "cell_type": "code",
   "execution_count": null,
   "metadata": {},
   "outputs": [],
   "source": []
  }
 ],
 "metadata": {
  "kernelspec": {
   "display_name": "Python 3",
   "language": "python",
   "name": "python3"
  },
  "language_info": {
   "codemirror_mode": {
    "name": "ipython",
    "version": 3
   },
   "file_extension": ".py",
   "mimetype": "text/x-python",
   "name": "python",
   "nbconvert_exporter": "python",
   "pygments_lexer": "ipython3",
   "version": "3.5.2"
  }
 },
 "nbformat": 4,
 "nbformat_minor": 2
}
