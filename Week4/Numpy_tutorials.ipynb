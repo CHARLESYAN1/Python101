{
 "cells": [
  {
   "cell_type": "markdown",
   "metadata": {},
   "source": [
    "### Numpy Tutorials\n",
    "### Author: Jiawen Yan\n",
    "### Version 1.0\n",
    "### Date: 2018-04-22"
   ]
  },
  {
   "cell_type": "code",
   "execution_count": 1,
   "metadata": {},
   "outputs": [],
   "source": [
    "# https://docs.scipy.org/doc/numpy-1.14.2/user/quickstart.html\n",
    "import numpy as np"
   ]
  },
  {
   "cell_type": "code",
   "execution_count": 19,
   "metadata": {},
   "outputs": [],
   "source": [
    "# np.array([]) 向量\n",
    "# reshape 函数将向量或矩阵变形成指定形状\n",
    "a = np.array([1,2,3,4,5,6,7,9,0,3,4,4]).reshape(2,3,-1) # reshape() "
   ]
  },
  {
   "cell_type": "code",
   "execution_count": 22,
   "metadata": {},
   "outputs": [
    {
     "name": "stdout",
     "output_type": "stream",
     "text": [
      "[[[1 2]\n",
      "  [3 4]\n",
      "  [5 6]]\n",
      "\n",
      " [[7 9]\n",
      "  [0 3]\n",
      "  [4 4]]]\n",
      "(2, 3, 2)\n",
      "3\n",
      "12\n",
      "int64\n"
     ]
    }
   ],
   "source": [
    "print(a)\n",
    "print(a.shape) # m*n*k 矩阵a的形状\n",
    "print(a.ndim)  # dimension 矩阵a的维度\n",
    "print(a.size)  # number of elements 矩阵a中元素的数量\n",
    "print(a.dtype) # numpy.int32, numpy.int16, and numpy.float64 矩阵A的数据类型"
   ]
  },
  {
   "cell_type": "markdown",
   "metadata": {},
   "source": [
    "\n",
    "### Create a numpy array"
   ]
  },
  {
   "cell_type": "code",
   "execution_count": 5,
   "metadata": {},
   "outputs": [
    {
     "name": "stdout",
     "output_type": "stream",
     "text": [
      "[[0. 0. 0. 0.]\n",
      " [0. 0. 0. 0.]\n",
      " [0. 0. 0. 0.]]\n",
      "[[1. 1. 1. 1.]\n",
      " [1. 1. 1. 1.]\n",
      " [1. 1. 1. 1.]]\n",
      "[[1.41923866e-02 7.97421598e-04 2.68786558e-01 1.44278683e-01]\n",
      " [4.45507969e-01 5.35468580e-01 2.28216012e-01 9.07474433e-01]\n",
      " [1.46790833e-01 1.64885757e-02 5.07247449e-01 5.82221024e-01]]\n",
      "[-0.26827145  0.58457802 -0.75477255 -0.27584747  0.54427174 -0.69007269\n",
      " -0.42479335  0.66946597  0.81423216  0.60971879]\n"
     ]
    }
   ],
   "source": [
    "# 创建一个指定形状，每个元素都为0的矩阵\n",
    "a = np.zeros( (3,4) )\n",
    "print(a)\n",
    "# 创建一个指定形状，每个元素都为1的矩阵\n",
    "a = np.ones( (3,4) )\n",
    "print(a)\n",
    "# 创建一个指定形状，每个元素都为[0,1]随机数的矩阵\n",
    "a = np.random.random( (3,4) )\n",
    "print(a)"
   ]
  },
  {
   "cell_type": "code",
   "execution_count": 2,
   "metadata": {},
   "outputs": [
    {
     "name": "stdout",
     "output_type": "stream",
     "text": [
      "[[3.58412397 6.11366195 7.87930814 6.13918572]\n",
      " [3.16746377 3.0699855  3.36801692 4.23453586]\n",
      " [3.21413586 5.99163117 7.4290251  4.18977011]]\n",
      "[[3 6 7 6]\n",
      " [3 3 3 4]\n",
      " [3 5 7 4]]\n"
     ]
    }
   ],
   "source": [
    "# 考虑如何生成(a, b) 的随机数？\n",
    "# 伸缩变换+平移变换 a*random() + b \n",
    "new_a = 5*np.random.random( (3,4) )+3 # 生成 形状为3*4， 每个元素随机分布在（3，8）中的矩阵\n",
    "print(new_a)\n",
    "#如果要求变形为整数？\n",
    "new_a = new_a.astype(int)\n",
    "print(new_a)"
   ]
  },
  {
   "cell_type": "code",
   "execution_count": 42,
   "metadata": {},
   "outputs": [
    {
     "data": {
      "image/png": "[encoded data removed]",
      "text/plain": [
       "<Figure size 432x288 with 1 Axes>"
      ]
     },
     "metadata": {},
     "output_type": "display_data"
    }
   ],
   "source": [
    "from numpy import pi # pi = 3.1415926...\n",
    "import matplotlib.pyplot as plt\n",
    "# linspace（a, b, num) 为线性空间函数，在（a,b)的范围内，均匀选取 num个数字\n",
    "x = np.linspace( 0, 2*pi, 100 ) # 100 numbers from 0 to 2*pi  \n",
    "y = np.sin(x)\n",
    "plt.plot(x, y) # plot 是折线图，但是微分的思想，看起来类似于曲线图\n",
    "plt.show()"
   ]
  },
  {
   "cell_type": "markdown",
   "metadata": {},
   "source": [
    "### array operations"
   ]
  },
  {
   "cell_type": "code",
   "execution_count": 43,
   "metadata": {},
   "outputs": [
    {
     "name": "stdout",
     "output_type": "stream",
     "text": [
      "[20 30 40 50]\n",
      "[0 1 2 3]\n",
      "[20 29 38 47]\n"
     ]
    }
   ],
   "source": [
    "a = np.array( [20,30,40,50] )\n",
    "b = np.arange(4)"
   ]
  },
  {
   "cell_type": "code",
   "execution_count": 47,
   "metadata": {},
   "outputs": [
    {
     "name": "stdout",
     "output_type": "stream",
     "text": [
      "[20 29 38 47]\n",
      "[0 2 4 6]\n",
      "[0 1 4 9]\n",
      "[ True  True False False]\n"
     ]
    }
   ],
   "source": [
    "# minus\n",
    "print(a-b)\n",
    "print(b*2)\n",
    "print(b**2)\n",
    "print(b<2)"
   ]
  },
  {
   "cell_type": "code",
   "execution_count": 57,
   "metadata": {},
   "outputs": [
    {
     "name": "stdout",
     "output_type": "stream",
     "text": [
      "[[1 2]\n",
      " [4 5]]\n",
      "[[3 4]\n",
      " [2 3]]\n",
      "[[ 3  8]\n",
      " [ 8 15]]\n",
      "[[ 7 10]\n",
      " [22 31]]\n",
      "[[ 7 10]\n",
      " [22 31]]\n"
     ]
    }
   ],
   "source": [
    "# product\n",
    "a = np.array([ [1,2], [4,5]]) # a 2-by-2 matrix \n",
    "b = np.array([ [3,4], [2,3]]) # a 2-by-2 matrix\n",
    "print(a)\n",
    "print(b)\n",
    "print(a*b) # element wise product， a,b 两个矩阵每一个元素对应相乘，要求a,b 必须有相同的形状\n",
    "print(a.dot(b)) # dot product 线性代数中的内积（点乘）\n",
    "print(np.dot(a,b)) # dot product 线性代数中的内积（点乘）两种写法都是可以的"
   ]
  },
  {
   "cell_type": "code",
   "execution_count": 7,
   "metadata": {},
   "outputs": [
    {
     "name": "stdout",
     "output_type": "stream",
     "text": [
      "[[0.92333618 0.27509202 0.25532298 0.55025102]\n",
      " [0.04944378 0.16157017 0.14629418 0.94684432]\n",
      " [0.18536094 0.96704214 0.75736187 0.98601488]]\n",
      "[[2.51767582 1.31665183 1.29087848 1.73368815]\n",
      " [1.05068652 1.17535493 1.15753667 2.57756285]\n",
      " [1.2036528  2.63015332 2.1326426  2.68053092]]\n",
      "[[0.96090384 0.52449216 0.50529494 0.74178906]\n",
      " [0.22235957 0.40195792 0.38248423 0.97305926]\n",
      " [0.43053564 0.98338301 0.8702654  0.99298282]]\n",
      "[[ 0.08729897  0.2893323  -0.08692005 -0.06323378]\n",
      " [ 0.20540578 -0.02785456 -0.07925581  0.05698712]\n",
      " [ 0.04542889 -0.03253632 -0.11260597  0.12601933]]\n",
      "[[ 0.83373929 -0.25346685 -0.48787024  0.24466814]\n",
      " [-0.64786638  0.45680377 -0.63412777  0.83859353]\n",
      " [ 0.10336068 -0.81555691  0.40049565 -0.58252311]]\n"
     ]
    }
   ],
   "source": [
    "a = np.random.random( (3,4) )\n",
    "print(a)\n",
    "print(np.exp(a)) # 每个元素e^x\n",
    "print(np.sqrt(a))# 每个元素开平方\n",
    "a = np.random.normal(0, 0.1, (3,4)) # 正态分布 normal(mu, sigma, array-shape)\n",
    "print(a)\n",
    "a = np.random.uniform(low=-1, high =1, size=(3,4)) # 随机分布\n",
    "print(a)\n"
   ]
  },
  {
   "cell_type": "markdown",
   "metadata": {},
   "source": [
    "### Summary and Statistics "
   ]
  },
  {
   "cell_type": "code",
   "execution_count": 5,
   "metadata": {},
   "outputs": [
    {
     "name": "stdout",
     "output_type": "stream",
     "text": [
      "[[0.84308465 0.75695801 0.44886365 0.17495366]\n",
      " [0.52862907 0.48862976 0.63847202 0.88668085]\n",
      " [0.42007231 0.99692862 0.62720988 0.30248421]]\n"
     ]
    }
   ],
   "source": [
    "a = np.random.random( (3,4) )\n",
    "print(a)"
   ]
  },
  {
   "cell_type": "code",
   "execution_count": 6,
   "metadata": {},
   "outputs": [
    {
     "name": "stdout",
     "output_type": "stream",
     "text": [
      "0.9969286229264294\n",
      "0.17495366243182153\n",
      "0.5927472244821163\n",
      "0.2357517736304155\n",
      "[0.84308465 0.99692862 0.63847202 0.88668085]\n",
      "[0.42007231 0.48862976 0.44886365 0.17495366]\n",
      "[0.59726201 0.74750546 0.57151519 0.45470624]\n",
      "[0.26432755 0.15499425 0.26385222]\n"
     ]
    }
   ],
   "source": [
    "print(a.max()) # 一个矩阵中的最大值\n",
    "print(a.min()) # 一个矩阵中的最小值\n",
    "print(a.mean()) # 一个矩阵中的平均值\n",
    "print(a.std()) # 一个矩阵中的标准差\n",
    "\n",
    "# by axis: axis = 0 -> by col; axis = 1 -> by row\n",
    "print(a.max(axis=0)) # 一个矩阵中每一列的最大值\n",
    "print(a.min(axis=0)) # 一个矩阵中每一列的最小值\n",
    "print(a.mean(axis=0)) # 一个矩阵中每一列的平均值\n",
    "print(a.std(axis=1)) # 一个矩阵中每一行的标准差"
   ]
  },
  {
   "cell_type": "code",
   "execution_count": null,
   "metadata": {},
   "outputs": [],
   "source": []
  },
  {
   "cell_type": "code",
   "execution_count": 7,
   "metadata": {},
   "outputs": [
    {
     "name": "stdout",
     "output_type": "stream",
     "text": [
      "[[3 4 1]\n",
      " [2 7 5]\n",
      " [5 1 3]]\n"
     ]
    }
   ],
   "source": [
    "# numpy copy 对矩阵进行拷贝\n",
    "a = np.array([ [3,4,1], [2,7,5], [5,1,3] ])\n",
    "print(a)\n",
    "b = a # a赋值给b，只是将a的“地址” 给了b, 两者指向同一个矩阵。如果对b进行操作，a矩阵也会发生变化"
   ]
  },
  {
   "cell_type": "code",
   "execution_count": 8,
   "metadata": {},
   "outputs": [
    {
     "data": {
      "text/plain": [
       "True"
      ]
     },
     "execution_count": 8,
     "metadata": {},
     "output_type": "execute_result"
    }
   ],
   "source": [
    "b is a  # 赋值后，a对象 和 b对象 是一个东西，所以 a is b == True"
   ]
  },
  {
   "cell_type": "code",
   "execution_count": 9,
   "metadata": {},
   "outputs": [
    {
     "data": {
      "text/plain": [
       "array([[ True,  True,  True],\n",
       "       [ True,  True,  True],\n",
       "       [ True,  True,  True]])"
      ]
     },
     "execution_count": 9,
     "metadata": {},
     "output_type": "execute_result"
    }
   ],
   "source": [
    "b == a # a 和 b 中的每个元素也相同"
   ]
  },
  {
   "cell_type": "code",
   "execution_count": 11,
   "metadata": {},
   "outputs": [],
   "source": [
    "b[0][0] = 999 # 这时我们对b 矩阵进行修改"
   ]
  },
  {
   "cell_type": "code",
   "execution_count": 13,
   "metadata": {},
   "outputs": [
    {
     "data": {
      "text/plain": [
       "array([[999,   4,   1],\n",
       "       [  2,   7,   5],\n",
       "       [  5,   1,   3]])"
      ]
     },
     "execution_count": 13,
     "metadata": {},
     "output_type": "execute_result"
    }
   ],
   "source": [
    "a # 发现 a 矩阵也会被修改"
   ]
  },
  {
   "cell_type": "code",
   "execution_count": 14,
   "metadata": {},
   "outputs": [],
   "source": [
    "c = a.copy() # 重新开辟一份内存，把 a 中的元素都完全复制给c, 这使我们一般意义上的拷贝"
   ]
  },
  {
   "cell_type": "code",
   "execution_count": 15,
   "metadata": {},
   "outputs": [],
   "source": [
    "c[0][0] = -8"
   ]
  },
  {
   "cell_type": "code",
   "execution_count": 16,
   "metadata": {},
   "outputs": [
    {
     "data": {
      "text/plain": [
       "array([[-8,  4,  1],\n",
       "       [ 2,  7,  5],\n",
       "       [ 5,  1,  3]])"
      ]
     },
     "execution_count": 16,
     "metadata": {},
     "output_type": "execute_result"
    }
   ],
   "source": [
    "c"
   ]
  },
  {
   "cell_type": "code",
   "execution_count": 17,
   "metadata": {},
   "outputs": [
    {
     "data": {
      "text/plain": [
       "array([[999,   4,   1],\n",
       "       [  2,   7,   5],\n",
       "       [  5,   1,   3]])"
      ]
     },
     "execution_count": 17,
     "metadata": {},
     "output_type": "execute_result"
    }
   ],
   "source": [
    "a"
   ]
  },
  {
   "cell_type": "code",
   "execution_count": null,
   "metadata": {},
   "outputs": [],
   "source": []
  }
 ],
 "metadata": {
  "kernelspec": {
   "display_name": "Python 3",
   "language": "python",
   "name": "python3"
  },
  "language_info": {
   "codemirror_mode": {
    "name": "ipython",
    "version": 3
   },
   "file_extension": ".py",
   "mimetype": "text/x-python",
   "name": "python",
   "nbconvert_exporter": "python",
   "pygments_lexer": "ipython3",
   "version": "3.5.4"
  }
 },
 "nbformat": 4,
 "nbformat_minor": 2
}
