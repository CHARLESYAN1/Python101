{
 "cells": [
  {
   "cell_type": "markdown",
   "metadata": {},
   "source": [
    "# Pandas Tutorial"
   ]
  },
  {
   "cell_type": "markdown",
   "metadata": {},
   "source": [
    "#### Author: Charles \n",
    "#### Version: 1.0\n",
    "#### Date: 2018.04.20"
   ]
  },
  {
   "cell_type": "raw",
   "metadata": {},
   "source": [
    "####################\n",
    "###### Part 1 ######\n",
    "####################"
   ]
  },
  {
   "cell_type": "code",
   "execution_count": 3,
   "metadata": {},
   "outputs": [],
   "source": [
    "# import necessary packages\n",
    "import pandas as pd\n",
    "from datetime import datetime\n",
    "import pandas_datareader.data as web"
   ]
  },
  {
   "cell_type": "code",
   "execution_count": 4,
   "metadata": {},
   "outputs": [],
   "source": [
    "# specify start time and end time \n",
    "start_time = datetime(2016,1,1)\n",
    "end_time = datetime(2016,12,31)"
   ]
  },
  {
   "cell_type": "code",
   "execution_count": 5,
   "metadata": {},
   "outputs": [],
   "source": [
    "# load stock information from MorningStar database\n",
    "# this function could have multiple options: google (blocked), yahoo(removed)\n",
    "df = web.DataReader(\"AAPL\", \"morningstar\", start_time, end_time)"
   ]
  },
  {
   "cell_type": "code",
   "execution_count": 6,
   "metadata": {},
   "outputs": [
    {
     "name": "stdout",
     "output_type": "stream",
     "text": [
      "                    Close     High     Low    Open    Volume\n",
      "Symbol Date                                                 \n",
      "AAPL   2016-01-01  105.26  105.260  105.26  105.26         0\n",
      "       2016-01-04  105.35  105.368  102.00  102.61  67649387\n",
      "       2016-01-05  102.71  105.850  102.41  105.75  55790992\n",
      "       2016-01-06  100.70  102.370   99.87  100.56  68457388\n",
      "       2016-01-07   96.45  100.130   96.43   98.68  81094428\n",
      "                    Close      High     Low    Open    Volume\n",
      "Symbol Date                                                  \n",
      "AAPL   2016-12-19  116.64  117.3800  115.75  115.80  27779423\n",
      "       2016-12-20  116.95  117.5000  116.68  116.74  21424965\n",
      "       2016-12-21  117.06  117.4000  116.78  116.80  23724084\n",
      "       2016-12-22  116.29  116.5100  115.64  116.35  26085854\n",
      "       2016-12-23  116.52  116.5200  115.59  115.59  14249484\n",
      "       2016-12-26  116.52  116.5200  116.52  116.52         0\n",
      "       2016-12-27  117.26  117.8000  116.49  116.52  18296855\n",
      "       2016-12-28  116.76  118.0166  116.20  117.52  20905892\n",
      "       2016-12-29  116.73  117.1095  116.40  116.45  15039519\n",
      "       2016-12-30  115.82  117.2000  115.43  116.65  30586265\n"
     ]
    }
   ],
   "source": [
    "print(df.head())\n",
    "print(df.tail(10))"
   ]
  },
  {
   "cell_type": "code",
   "execution_count": 7,
   "metadata": {},
   "outputs": [],
   "source": [
    "# reset index and construct data-frame like a XLS spreadsheet \n",
    "df.reset_index(inplace=True)\n",
    "df.set_index(\"Date\", inplace=True)\n",
    "df.drop(\"Symbol\", axis=1, inplace=True)"
   ]
  },
  {
   "cell_type": "code",
   "execution_count": 8,
   "metadata": {},
   "outputs": [
    {
     "data": {
      "text/html": [
       "<div>\n",
       "<style scoped>\n",
       "    .dataframe tbody tr th:only-of-type {\n",
       "        vertical-align: middle;\n",
       "    }\n",
       "\n",
       "    .dataframe tbody tr th {\n",
       "        vertical-align: top;\n",
       "    }\n",
       "\n",
       "    .dataframe thead th {\n",
       "        text-align: right;\n",
       "    }\n",
       "</style>\n",
       "<table border=\"1\" class=\"dataframe\">\n",
       "  <thead>\n",
       "    <tr style=\"text-align: right;\">\n",
       "      <th></th>\n",
       "      <th>Close</th>\n",
       "      <th>High</th>\n",
       "      <th>Low</th>\n",
       "      <th>Open</th>\n",
       "      <th>Volume</th>\n",
       "    </tr>\n",
       "    <tr>\n",
       "      <th>Date</th>\n",
       "      <th></th>\n",
       "      <th></th>\n",
       "      <th></th>\n",
       "      <th></th>\n",
       "      <th></th>\n",
       "    </tr>\n",
       "  </thead>\n",
       "  <tbody>\n",
       "    <tr>\n",
       "      <th>2016-01-01</th>\n",
       "      <td>105.26</td>\n",
       "      <td>105.260</td>\n",
       "      <td>105.26</td>\n",
       "      <td>105.26</td>\n",
       "      <td>0</td>\n",
       "    </tr>\n",
       "    <tr>\n",
       "      <th>2016-01-04</th>\n",
       "      <td>105.35</td>\n",
       "      <td>105.368</td>\n",
       "      <td>102.00</td>\n",
       "      <td>102.61</td>\n",
       "      <td>67649387</td>\n",
       "    </tr>\n",
       "    <tr>\n",
       "      <th>2016-01-05</th>\n",
       "      <td>102.71</td>\n",
       "      <td>105.850</td>\n",
       "      <td>102.41</td>\n",
       "      <td>105.75</td>\n",
       "      <td>55790992</td>\n",
       "    </tr>\n",
       "    <tr>\n",
       "      <th>2016-01-06</th>\n",
       "      <td>100.70</td>\n",
       "      <td>102.370</td>\n",
       "      <td>99.87</td>\n",
       "      <td>100.56</td>\n",
       "      <td>68457388</td>\n",
       "    </tr>\n",
       "    <tr>\n",
       "      <th>2016-01-07</th>\n",
       "      <td>96.45</td>\n",
       "      <td>100.130</td>\n",
       "      <td>96.43</td>\n",
       "      <td>98.68</td>\n",
       "      <td>81094428</td>\n",
       "    </tr>\n",
       "  </tbody>\n",
       "</table>\n",
       "</div>"
      ],
      "text/plain": [
       "             Close     High     Low    Open    Volume\n",
       "Date                                                 \n",
       "2016-01-01  105.26  105.260  105.26  105.26         0\n",
       "2016-01-04  105.35  105.368  102.00  102.61  67649387\n",
       "2016-01-05  102.71  105.850  102.41  105.75  55790992\n",
       "2016-01-06  100.70  102.370   99.87  100.56  68457388\n",
       "2016-01-07   96.45  100.130   96.43   98.68  81094428"
      ]
     },
     "execution_count": 8,
     "metadata": {},
     "output_type": "execute_result"
    }
   ],
   "source": [
    "df.head()"
   ]
  },
  {
   "cell_type": "code",
   "execution_count": 9,
   "metadata": {},
   "outputs": [],
   "source": [
    "# plot it \n",
    "import matplotlib.pyplot as plt\n",
    "from matplotlib import style\n",
    "style.use(\"fivethirtyeight\")"
   ]
  },
  {
   "cell_type": "code",
   "execution_count": 11,
   "metadata": {},
   "outputs": [
    {
     "data": {
      "image/png": "[encoded data removed]",
      "text/plain": [
       "<Figure size 432x288 with 1 Axes>"
      ]
     },
     "metadata": {},
     "output_type": "display_data"
    }
   ],
   "source": [
    "df['High'].plot()\n",
    "plt.legend()\n",
    "plt.show()"
   ]
  },
  {
   "cell_type": "code",
   "execution_count": null,
   "metadata": {},
   "outputs": [],
   "source": [
    "####################\n",
    "###### Part 2 ######\n",
    "####################"
   ]
  },
  {
   "cell_type": "code",
   "execution_count": null,
   "metadata": {},
   "outputs": [],
   "source": []
  },
  {
   "cell_type": "code",
   "execution_count": null,
   "metadata": {},
   "outputs": [],
   "source": []
  }
 ],
 "metadata": {
  "kernelspec": {
   "display_name": "Python 3",
   "language": "python",
   "name": "python3"
  },
  "language_info": {
   "codemirror_mode": {
    "name": "ipython",
    "version": 3
   },
   "file_extension": ".py",
   "mimetype": "text/x-python",
   "name": "python",
   "nbconvert_exporter": "python",
   "pygments_lexer": "ipython3",
   "version": "3.5.2"
  }
 },
 "nbformat": 4,
 "nbformat_minor": 2
}
