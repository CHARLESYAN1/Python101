{
 "cells": [
  {
   "cell_type": "code",
   "execution_count": 1,
   "metadata": {},
   "outputs": [],
   "source": [
    "import sqlite3"
   ]
  },
  {
   "cell_type": "code",
   "execution_count": 2,
   "metadata": {},
   "outputs": [],
   "source": [
    "# CREATE \n",
    "conn = sqlite3.connect(\"sqlite3_tutorial_JD_data_test.db\")\n",
    "c = conn.cursor()"
   ]
  },
  {
   "cell_type": "code",
   "execution_count": 4,
   "metadata": {},
   "outputs": [],
   "source": [
    "def create_table(conn, c):\n",
    "    c.execute(\"\"\"CREATE TABLE IF NOT EXISTS Products(\n",
    "                id INTEGER PRIMARY KEY AUTOINCREMENT,\n",
    "                _id INTEGER,\n",
    "                url TEXT,\n",
    "                sku_id TEXT,\n",
    "                domain TEXT,\n",
    "                name TEXT,\n",
    "                item_name TEXT,\n",
    "                parameter1 TEXT,\n",
    "                parameter2 TEXT, \n",
    "                price REAL ,\n",
    "                brand TEXT ,\n",
    "                other TEXT) ;\"\"\")\n",
    "    conn.commit()\n",
    "create_table(conn, c)"
   ]
  },
  {
   "cell_type": "code",
   "execution_count": 5,
   "metadata": {},
   "outputs": [],
   "source": [
    "def insert_data(conn, c, num):\n",
    "    import pandas as pd\n",
    "    fin = pd.read_csv(\"sample_jd_products.csv\")\n",
    "\n",
    "    for i in range(1, num+1):\n",
    "        c.execute('''INSERT INTO Products \n",
    "        (_id, url, sku_id, domain, name, item_name, parameter1, parameter2, price, brand, other) \n",
    "        VALUES (\"{}\", \"{}\", \"{}\", \"{}\", \"{}\", \"{}\", \"{}\", \"{}\", \"{}\", \"{}\", \"{}\") ; '''.format(  *[ fin.loc[i][j] for j in range(1,12) ]) )\n",
    "        conn.commit()\n",
    "insert_data(conn, c, 2000)"
   ]
  },
  {
   "cell_type": "code",
   "execution_count": 3,
   "metadata": {},
   "outputs": [
    {
     "name": "stdout",
     "output_type": "stream",
     "text": [
      "('100418', '吉列锋速3刮胡刀刀片（4刀头）', 59.9)\n"
     ]
    }
   ],
   "source": [
    "def select_data(conn, c, Id):\n",
    "    ret = c.execute(\"SELECT sku_id, name, price FROM Products WHERE id < {}\".format(Id))\n",
    "    ret = ret.fetchall() \n",
    "    if ret:\n",
    "        print(ret[0])\n",
    "select_data(conn, c, Id = 128)"
   ]
  },
  {
   "cell_type": "code",
   "execution_count": 6,
   "metadata": {},
   "outputs": [],
   "source": [
    "for i in range(start_value = 0, end_value, step= 1):\n",
    "    "
   ]
  },
  {
   "cell_type": "code",
   "execution_count": 13,
   "metadata": {},
   "outputs": [
    {
     "name": "stdout",
     "output_type": "stream",
     "text": [
      "1\n",
      "2\n",
      "3\n",
      "4\n",
      "5\n",
      "6\n",
      "7\n",
      "8\n",
      "9\n"
     ]
    }
   ],
   "source": [
    "for i in range(1, 10):\n",
    "    print(i) # [1, 10)"
   ]
  },
  {
   "cell_type": "code",
   "execution_count": null,
   "metadata": {},
   "outputs": [],
   "source": []
  },
  {
   "cell_type": "code",
   "execution_count": null,
   "metadata": {},
   "outputs": [],
   "source": []
  },
  {
   "cell_type": "code",
   "execution_count": null,
   "metadata": {},
   "outputs": [],
   "source": []
  },
  {
   "cell_type": "code",
   "execution_count": null,
   "metadata": {},
   "outputs": [],
   "source": []
  },
  {
   "cell_type": "code",
   "execution_count": null,
   "metadata": {},
   "outputs": [],
   "source": []
  },
  {
   "cell_type": "code",
   "execution_count": null,
   "metadata": {},
   "outputs": [],
   "source": []
  }
 ],
 "metadata": {
  "kernelspec": {
   "display_name": "Python 3",
   "language": "python",
   "name": "python3"
  },
  "language_info": {
   "codemirror_mode": {
    "name": "ipython",
    "version": 3
   },
   "file_extension": ".py",
   "mimetype": "text/x-python",
   "name": "python",
   "nbconvert_exporter": "python",
   "pygments_lexer": "ipython3",
   "version": "3.5.2"
  }
 },
 "nbformat": 4,
 "nbformat_minor": 2
}
